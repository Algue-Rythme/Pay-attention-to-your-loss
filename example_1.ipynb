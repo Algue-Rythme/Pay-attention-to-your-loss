{
  "nbformat": 4,
  "nbformat_minor": 0,
  "metadata": {
    "colab": {
      "name": "divergence.ipynb",
      "provenance": [],
      "collapsed_sections": []
    },
    "kernelspec": {
      "name": "python3",
      "display_name": "Python 3"
    },
    "language_info": {
      "name": "python"
    }
  },
  "cells": [
    {
      "cell_type": "code",
      "source": [
        "!pip install optax"
      ],
      "metadata": {
        "colab": {
          "base_uri": "https://localhost:8080/"
        },
        "id": "n0pw_CVCDnCs",
        "outputId": "1ab46289-94be-48b3-834e-fe5fd9eb507a"
      },
      "execution_count": null,
      "outputs": [
        {
          "output_type": "stream",
          "name": "stdout",
          "text": [
            "Collecting optax\n",
            "  Downloading optax-0.1.2-py3-none-any.whl (140 kB)\n",
            "\u001b[?25l\r\u001b[K     |██▎                             | 10 kB 21.2 MB/s eta 0:00:01\r\u001b[K     |████▋                           | 20 kB 19.3 MB/s eta 0:00:01\r\u001b[K     |███████                         | 30 kB 18.4 MB/s eta 0:00:01\r\u001b[K     |█████████▎                      | 40 kB 17.3 MB/s eta 0:00:01\r\u001b[K     |███████████▋                    | 51 kB 15.8 MB/s eta 0:00:01\r\u001b[K     |██████████████                  | 61 kB 17.7 MB/s eta 0:00:01\r\u001b[K     |████████████████▎               | 71 kB 19.0 MB/s eta 0:00:01\r\u001b[K     |██████████████████▋             | 81 kB 20.0 MB/s eta 0:00:01\r\u001b[K     |█████████████████████           | 92 kB 21.3 MB/s eta 0:00:01\r\u001b[K     |███████████████████████▎        | 102 kB 21.9 MB/s eta 0:00:01\r\u001b[K     |█████████████████████████▋      | 112 kB 21.9 MB/s eta 0:00:01\r\u001b[K     |████████████████████████████    | 122 kB 21.9 MB/s eta 0:00:01\r\u001b[K     |██████████████████████████████▎ | 133 kB 21.9 MB/s eta 0:00:01\r\u001b[K     |████████████████████████████████| 140 kB 21.9 MB/s \n",
            "\u001b[?25hRequirement already satisfied: jaxlib>=0.1.37 in /usr/local/lib/python3.7/dist-packages (from optax) (0.3.7+cuda11.cudnn805)\n",
            "Requirement already satisfied: typing-extensions>=3.10.0 in /usr/local/lib/python3.7/dist-packages (from optax) (4.2.0)\n",
            "Requirement already satisfied: absl-py>=0.7.1 in /usr/local/lib/python3.7/dist-packages (from optax) (1.0.0)\n",
            "Requirement already satisfied: numpy>=1.18.0 in /usr/local/lib/python3.7/dist-packages (from optax) (1.21.6)\n",
            "Collecting chex>=0.0.4\n",
            "  Downloading chex-0.1.3-py3-none-any.whl (72 kB)\n",
            "\u001b[K     |████████████████████████████████| 72 kB 423 kB/s \n",
            "\u001b[?25hRequirement already satisfied: jax>=0.1.55 in /usr/local/lib/python3.7/dist-packages (from optax) (0.3.8)\n",
            "Requirement already satisfied: six in /usr/local/lib/python3.7/dist-packages (from absl-py>=0.7.1->optax) (1.15.0)\n",
            "Requirement already satisfied: toolz>=0.9.0 in /usr/local/lib/python3.7/dist-packages (from chex>=0.0.4->optax) (0.11.2)\n",
            "Requirement already satisfied: dm-tree>=0.1.5 in /usr/local/lib/python3.7/dist-packages (from chex>=0.0.4->optax) (0.1.7)\n",
            "Requirement already satisfied: opt-einsum in /usr/local/lib/python3.7/dist-packages (from jax>=0.1.55->optax) (3.3.0)\n",
            "Requirement already satisfied: scipy>=1.2.1 in /usr/local/lib/python3.7/dist-packages (from jax>=0.1.55->optax) (1.4.1)\n",
            "Requirement already satisfied: flatbuffers<3.0,>=1.12 in /usr/local/lib/python3.7/dist-packages (from jaxlib>=0.1.37->optax) (2.0)\n",
            "Installing collected packages: chex, optax\n",
            "Successfully installed chex-0.1.3 optax-0.1.2\n"
          ]
        }
      ]
    },
    {
      "cell_type": "code",
      "execution_count": null,
      "metadata": {
        "id": "kQmTKYKZJaN_"
      },
      "outputs": [],
      "source": [
        "import jax\n",
        "import jax.numpy as jnp"
      ]
    },
    {
      "cell_type": "code",
      "source": [
        "from jax.config import config\n",
        "config.update(\"jax_enable_x64\", True)"
      ],
      "metadata": {
        "id": "lH_DSHuIdxP-"
      },
      "execution_count": null,
      "outputs": []
    },
    {
      "cell_type": "code",
      "source": [
        "@jax.jit\n",
        "def loss_fn(param, train, labels):\n",
        "  W, b = param\n",
        "  preds = train @ W + b\n",
        "  losses = labels * jax.nn.log_sigmoid(preds)\n",
        "  return -jnp.mean(losses)"
      ],
      "metadata": {
        "id": "MLiTx2NUsk8N"
      },
      "execution_count": null,
      "outputs": []
    },
    {
      "cell_type": "code",
      "source": [
        "def hessian(f):\n",
        "    return jax.jit(jax.jacfwd(jax.jacrev(f)))"
      ],
      "metadata": {
        "id": "8LE4HkMS2nqh"
      },
      "execution_count": null,
      "outputs": []
    },
    {
      "cell_type": "code",
      "source": [
        "from jax.scipy.sparse.linalg import cg\n",
        "\n",
        "@jax.jit\n",
        "def solve_newton(hessian, grad):\n",
        "  def matvec(x):\n",
        "    top = jnp.dot(hessian[0][0], x[0]) + hessian[0][1]*x[1]\n",
        "    bottom = jnp.dot(hessian[1][0], x[0]) + hessian[1][1]*x[1]\n",
        "    return top, bottom\n",
        "  return cg(matvec, grad)[0]"
      ],
      "metadata": {
        "id": "gPZLmk6gbGiX"
      },
      "execution_count": null,
      "outputs": []
    },
    {
      "cell_type": "code",
      "source": [
        "from optax import adam\n",
        "import optax"
      ],
      "metadata": {
        "id": "zbLvaznHDkm0"
      },
      "execution_count": null,
      "outputs": []
    },
    {
      "cell_type": "code",
      "source": [
        "import tqdm\n",
        "\n",
        "def run_xp(dtype, method, num_steps, verbose=0):\n",
        "  if False:\n",
        "    X = jnp.array([[-1.,-1.], [-1., 1.], [1., -1.], [1., 1.]], dtype=dtype)\n",
        "    Y = jnp.array([0, 0, 1, 1], dtype=dtype)\n",
        "    W, b = jnp.array([-1., -3.], dtype=dtype), jnp.array(2., dtype=dtype)\n",
        "  else:\n",
        "    X = jnp.array([[-1.], [1.]], dtype=dtype)\n",
        "    Y = jnp.array([[0], [1]], dtype=dtype)\n",
        "    W, b = jnp.array([-3.], dtype=dtype), jnp.array(2., dtype=dtype)\n",
        "  losses = []\n",
        "  grad_norms = []\n",
        "  params = [(W, b)]\n",
        "  params_norms = [(jnp.sum(W**2) + b**2) ** 0.5]\n",
        "  value_and_grad = jax.value_and_grad(loss_fn)\n",
        "  hessian_fun = hessian(loss_fn)\n",
        "  step_size = 1. if method == 'newton' else 1.\n",
        "  steps = jnp.arange(num_steps)\n",
        "  step_W, step_b = jnp.array(0.), jnp.array(0.)\n",
        "  if method == 'adam':\n",
        "    optimizer = adam(step_size)\n",
        "    opt_state = optimizer.init((W, b))\n",
        "  for step in tqdm.trange(num_steps):\n",
        "    loss, (grad_W, grad_b) = value_and_grad((W, b), X, Y)\n",
        "    H = hessian_fun((W, b), X, Y)\n",
        "    grad_norm = (jnp.sum(grad_W**2) + grad_b**2)**0.5\n",
        "    if method == 'grad':\n",
        "      step_W, step_b = grad_W, grad_b\n",
        "    elif method == 'momentum':\n",
        "      step_W = 0.9 * step_W + 0.1 * grad_W\n",
        "      step_b = 0.9 * step_b + 0.1 * grad_b\n",
        "    elif method == 'adam':\n",
        "      updates, opt_state = optimizer.update((grad_W, grad_b), opt_state, (W, b))\n",
        "      (W, b) = optax.apply_updates((W, b), updates)\n",
        "    elif method == 'newton':\n",
        "      step_W, step_b = solve_newton(H, (grad_W, grad_b))\n",
        "    step_W, step_b = jnp.nan_to_num(step_W), jnp.nan_to_num(step_b)\n",
        "    W = W - step_size * step_W\n",
        "    b = b - step_size * step_b\n",
        "    params_norm = (jnp.sum(W**2) + b**2) ** 0.5\n",
        "    losses.append(loss)\n",
        "    params_norms.append(params_norm)\n",
        "    grad_norms.append(grad_norm)\n",
        "    params.append((W, b))\n",
        "  print('')\n",
        "  if verbose:\n",
        "    print(f'Loss'.ljust(25), f'Gradient Norm'.ljust(25), f'(         W        ,           b       )'.ljust(20))\n",
        "    for loss, gradnorm, (W, b) in list(zip(losses, grad_norms, params)):\n",
        "      print(f'{loss}'.ljust(25), f'{gradnorm}'.ljust(25), f'{tuple(float(w) for w in W) + (float(b),)}'.ljust(20))\n",
        "  print(f'{losses[-1]}'.ljust(25), f'{grad_norms[-1]}'.ljust(25), f'{tuple(float(w) for w in params[-1][0]) + (float(params[-1][1]),)}'.ljust(20))\n",
        "  return steps, losses, grad_norms, params, params_norms"
      ],
      "metadata": {
        "id": "4KFkkbfmtJsh"
      },
      "execution_count": null,
      "outputs": []
    },
    {
      "cell_type": "code",
      "source": [
        "num_steps = 50\n",
        "nb_bits = 64\n",
        "if nb_bits == 32:\n",
        "  dtype = jnp.float32\n",
        "elif nb_bits == 64:\n",
        "  dtype = jnp.float64\n",
        "else:\n",
        "  assert False"
      ],
      "metadata": {
        "id": "dR0TOpYr97DI"
      },
      "execution_count": null,
      "outputs": []
    },
    {
      "cell_type": "code",
      "source": [
        "steps, losses64, grad_norms64, params64, params_norms64 = run_xp(jnp.float64, 'newton', num_steps=num_steps, verbose=0)"
      ],
      "metadata": {
        "colab": {
          "base_uri": "https://localhost:8080/"
        },
        "id": "5M6MCe8kdPbY",
        "outputId": "468a0042-103f-4eae-be95-4d4cc7c5873b"
      },
      "execution_count": null,
      "outputs": [
        {
          "output_type": "stream",
          "name": "stderr",
          "text": [
            "WARNING:absl:No GPU/TPU found, falling back to CPU. (Set TF_CPP_MIN_LOG_LEVEL=0 and rerun for more info.)\n",
            "100%|██████████| 50/50 [00:00<00:00, 59.33it/s]"
          ]
        },
        {
          "output_type": "stream",
          "name": "stdout",
          "text": [
            "\n",
            "2.2113448852757038e-23    3.0062780963628e-23       (-1.5953748631338067, 53.4152540064954)\n"
          ]
        },
        {
          "output_type": "stream",
          "name": "stderr",
          "text": [
            "\n"
          ]
        }
      ]
    },
    {
      "cell_type": "code",
      "source": [
        "steps, losses32, grad_norms32, params32, params_norms32 = run_xp(jnp.float32, 'newton', num_steps=num_steps, verbose=0)"
      ],
      "metadata": {
        "colab": {
          "base_uri": "https://localhost:8080/"
        },
        "id": "HfRshyn4P09-",
        "outputId": "b4ff1cb0-2c50-46a8-b12b-885c95839d36"
      },
      "execution_count": null,
      "outputs": [
        {
          "output_type": "stream",
          "name": "stderr",
          "text": [
            "100%|██████████| 50/50 [00:00<00:00, 59.06it/s]"
          ]
        },
        {
          "output_type": "stream",
          "name": "stdout",
          "text": [
            "\n",
            "4.328328494229705e-12     5.8842748382192944e-12    (-1.5953762531280518, 26.415239334106445)\n"
          ]
        },
        {
          "output_type": "stream",
          "name": "stderr",
          "text": [
            "\n"
          ]
        }
      ]
    },
    {
      "cell_type": "code",
      "source": [
        "steps, losses32_g, grad_norms32_g, params32_g, params_norms32_g = run_xp(dtype, 'grad', num_steps=num_steps, verbose=0)"
      ],
      "metadata": {
        "colab": {
          "base_uri": "https://localhost:8080/"
        },
        "id": "5sCMC-b9gGS3",
        "outputId": "9e347448-1beb-4697-d697-675c990d80be"
      },
      "execution_count": null,
      "outputs": [
        {
          "output_type": "stream",
          "name": "stderr",
          "text": [
            "100%|██████████| 50/50 [00:00<00:00, 155.54it/s]"
          ]
        },
        {
          "output_type": "stream",
          "name": "stdout",
          "text": [
            "\n",
            "0.012801957035884002      0.01583625888567597       (-1.0320903170025462, 4.1229148626892105)\n"
          ]
        },
        {
          "output_type": "stream",
          "name": "stderr",
          "text": [
            "\n"
          ]
        }
      ]
    },
    {
      "cell_type": "code",
      "source": [
        "steps, losses32_a, grad_norms32_a, params32_a, params_norms32_a = run_xp(dtype, 'adam', num_steps=num_steps, verbose=0)"
      ],
      "metadata": {
        "colab": {
          "base_uri": "https://localhost:8080/"
        },
        "id": "RPFZAiQfKkOu",
        "outputId": "5f92101d-2c29-493b-f815-fb52a86b33b2"
      },
      "execution_count": null,
      "outputs": [
        {
          "output_type": "stream",
          "name": "stderr",
          "text": [
            "100%|██████████| 50/50 [00:02<00:00, 17.64it/s]"
          ]
        },
        {
          "output_type": "stream",
          "name": "stdout",
          "text": [
            "\n",
            "0.00025723878355591635    0.00036350932064699873    (4.1214506808844, 11.027601687533423)\n"
          ]
        },
        {
          "output_type": "stream",
          "name": "stderr",
          "text": [
            "\n"
          ]
        }
      ]
    },
    {
      "cell_type": "code",
      "source": [
        "import plotly.express as px\n",
        "import pandas as pd\n",
        "import plotly.graph_objects as go\n",
        "from plotly.subplots import make_subplots\n",
        "\n",
        "# Create figure with secondary y-axis\n",
        "fig = make_subplots(specs=[[{\"secondary_y\": True}]])\n",
        "\n",
        "g_blue = \"#4285F4\" \n",
        "g_green = \"#38A854\"\n",
        "g_yellow = \"#FBBC05\"\n",
        "g_red = \"#EA4335\"\n",
        "\n",
        "plot_loss = False\n",
        "if plot_loss:\n",
        "  # Add traces\n",
        "  fig.add_trace(\n",
        "      go.Scatter(x=steps, y=losses64, name=f\"Loss (Newton {64} bits)\",\n",
        "                line = dict(color=g_green, width=4, dash='dot')),\n",
        "      secondary_y=True,\n",
        "  )\n",
        "  fig.add_trace(\n",
        "      go.Scatter(x=steps, y=losses32, name=f\"Loss (Newton {32} bits)\",\n",
        "                line = dict(color=g_yellow, width=4, dash='dot')),\n",
        "      secondary_y=True,\n",
        "  )\n",
        "  fig.add_trace(\n",
        "      go.Scatter(x=steps, y=losses32_g, name=f\"Loss (GD {nb_bits} bits)\",\n",
        "                line = dict(color=g_blue, width=4, dash='dot')),\n",
        "      secondary_y=True,\n",
        "  )\n",
        "  fig.add_trace(\n",
        "      go.Scatter(x=steps, y=losses32_a, name=f\"Loss (Adam {nb_bits} bits)\",\n",
        "                line = dict(color=g_red, width=4, dash='dot')),\n",
        "      secondary_y=True,\n",
        "  )\n",
        "\n",
        "msg = 'Weight Norm'\n",
        "\n",
        "fig.add_trace(\n",
        "    go.Scatter(x=steps, y=[n for n in params_norms32_g], name=f\"Gradient Descent float{nb_bits}\",\n",
        "               line = dict(color=g_blue, width=4)),\n",
        "    secondary_y=False,\n",
        ")\n",
        "fig.add_trace(\n",
        "    go.Scatter(x=steps, y=[n for n in params_norms32_a], name=f\"Adam float{nb_bits}\",\n",
        "               line = dict(color=g_red, width=4)),\n",
        "    secondary_y=False,\n",
        ")\n",
        "fig.add_trace(\n",
        "    go.Scatter(x=steps, y=[n for n in params_norms64], name=f\"Newton's method float{64}\",\n",
        "               line = dict(color=g_green, width=4)),\n",
        "    secondary_y=False,\n",
        ")\n",
        "fig.add_trace(\n",
        "    go.Scatter(x=steps, y=[n for n in params_norms32], name=f\"Newton's method float{32}\",\n",
        "               line = dict(color=g_yellow, width=4)),\n",
        "    secondary_y=False,\n",
        ")\n",
        "\n",
        "# Add figure title\n",
        "fig.update_layout(title_text=\"\", autosize=True,\n",
        "                  width=1200, height=500,\n",
        "                  font=dict(size=24),\n",
        "                  legend=dict(\n",
        "                    x=0.05,\n",
        "                    y=0.9,\n",
        "                    traceorder=\"reversed\",\n",
        "                    title_font_family=\"Computer Modern\",\n",
        "                    font=dict(\n",
        "                        family=\"Computer Modern\",\n",
        "                        size=24,\n",
        "                        color=\"black\"\n",
        "                    ),\n",
        "                    bgcolor=\"White\",\n",
        "                    bordercolor=\"White\",\n",
        "                    borderwidth=2)\n",
        "                  )\n",
        "\n",
        "# Set x-axis title\n",
        "fig.update_xaxes(title_text=\"Optimizer Step t\", title_font_family='Computer Modern', title_font_size=32)\n",
        "\n",
        "# Set y-axes titles\n",
        "if plot_loss:\n",
        "  fig.update_yaxes(title_text=\"<b>Loss</b> (logscale)\", secondary_y=True, type='log')\n",
        "fig.update_yaxes(title=dict(text=\"Parameters Norm\", font_family='Computer Modern', font_size=36), secondary_y=False)\n",
        "\n",
        "fig.show()"
      ],
      "metadata": {
        "colab": {
          "base_uri": "https://localhost:8080/",
          "height": 517
        },
        "id": "bzLMQbuXuTVU",
        "outputId": "96f92bff-a1e8-411c-80b9-6d2fec6a7a39"
      },
      "execution_count": null,
      "outputs": [
        {
          "output_type": "display_data",
          "data": {
            "text/html": [
              "<html>\n",
              "<head><meta charset=\"utf-8\" /></head>\n",
              "<body>\n",
              "    <div>            <script src=\"https://cdnjs.cloudflare.com/ajax/libs/mathjax/2.7.5/MathJax.js?config=TeX-AMS-MML_SVG\"></script><script type=\"text/javascript\">if (window.MathJax) {MathJax.Hub.Config({SVG: {font: \"STIX-Web\"}});}</script>                <script type=\"text/javascript\">window.PlotlyConfig = {MathJaxConfig: 'local'};</script>\n",
              "        <script src=\"https://cdn.plot.ly/plotly-2.8.3.min.js\"></script>                <div id=\"b5e68a13-7cb9-445b-acae-4dc96a8101c1\" class=\"plotly-graph-div\" style=\"height:500px; width:1200px;\"></div>            <script type=\"text/javascript\">                                    window.PLOTLYENV=window.PLOTLYENV || {};                                    if (document.getElementById(\"b5e68a13-7cb9-445b-acae-4dc96a8101c1\")) {                    Plotly.newPlot(                        \"b5e68a13-7cb9-445b-acae-4dc96a8101c1\",                        [{\"line\":{\"color\":\"#4285F4\",\"width\":4},\"name\":\"Gradient Descent float64\",\"x\":[0,1,2,3,4,5,6,7,8,9,10,11,12,13,14,15,16,17,18,19,20,21,22,23,24,25,26,27,28,29,30,31,32,33,34,35,36,37,38,39,40,41,42,43,44,45,46,47,48,49],\"y\":[3.605551275463989,3.566232503350134,3.5469390586702754,3.5426362264211746,3.5487750260263837,3.5617781765271537,3.5790778500485136,3.598930653598663,3.6201899385517056,3.642114784408459,3.6642317991730655,3.6862417339859395,3.7079583087884354,3.729268605185514,3.7501074593769212,3.770440841752345,3.790255000471175,3.8095493196074806,3.8283315892788985,3.8466148557478115,3.8644153158574968,3.881750907751588,3.898640369489912,3.9151026142272904,3.9311563207362146,3.94681967097963,3.9621101882880625,3.9770446443313707,3.991639012968654,4.005908455803011,4.019867328899213,4.033529203325142,4.0469068944061934,4.060012496140243,4.072857418315308,4.085452424643194,4.09780767076695,4.109932741384592,4.1218366860031646,4.133528053028366,4.145014922028804,4.1563049341069,4.167405320372125,4.178322928555001,4.189064247828154,4.199635431917887,4.210042320599554,4.220290459674338,4.230385119526017,4.240331312354524,4.2501338081799265],\"type\":\"scatter\",\"xaxis\":\"x\",\"yaxis\":\"y\"},{\"line\":{\"color\":\"#EA4335\",\"width\":4},\"name\":\"Adam float64\",\"x\":[0,1,2,3,4,5,6,7,8,9,10,11,12,13,14,15,16,17,18,19,20,21,22,23,24,25,26,27,28,29,30,31,32,33,34,35,36,37,38,39,40,41,42,43,44,45,46,47,48,49],\"y\":[3.605551275463989,3.605551260982166,4.045339635900711,4.642007015339602,5.24857223726778,5.818841784198224,6.341633714285523,6.816865979763319,7.2478452672534965,7.638699014221177,7.993501863287387,8.315994859253005,8.609520060818493,8.877032941684257,9.121140210637746,9.344142862016051,9.548076941256642,9.73474960892796,9.90577012184231,10.062576114580667,10.206455799764544,10.338566724979058,10.459951663375332,10.571552131223026,10.6742199426277,10.76872713790872,10.855774559928259,10.935999301505781,11.00998120554394,11.07824856603533,11.141283151225391,11.19952464859294,11.253374613916337,11.303199992663721,11.349336270594991,11.392090301248128,11.431742850472405,11.468550892026032,11.50274968320623,11.534554645311921,11.564163070284058,11.591755671990127,11.617497998210512,11.641541717358319,11.664025792251579,11.68507755180203,11.704813670242283,11.72334106244711,11.740757702984803,11.757153375737236,11.772610360232452],\"type\":\"scatter\",\"xaxis\":\"x\",\"yaxis\":\"y\"},{\"line\":{\"color\":\"#38A854\",\"width\":4},\"name\":\"Newton's method float64\",\"x\":[0,1,2,3,4,5,6,7,8,9,10,11,12,13,14,15,16,17,18,19,20,21,22,23,24,25,26,27,28,29,30,31,32,33,34,35,36,37,38,39,40,41,42,43,44,45,46,47,48,49],\"y\":[3.605551275463989,4.662078767183658,5.632476533350938,6.605640142458053,7.583011484204446,8.564415697891917,9.549186876124915,10.536629412669642,11.52615956989262,12.51732369379832,13.509778542237278,14.503265539761983,15.497588656592537,16.492597613326403,17.488175706051354,18.484231109086277,19.48069065899973,20.477495376493277,21.47459720310393,22.471956592568997,23.469540709833783,24.467322067422195,25.465277480656223,26.463387258265094,27.46163456887299,28.460004940397894,29.45848586096246,30.457066458106883,31.455737238960705,32.45448987828239,33.453317044390765,34.45221225531848,35.45116975924078,36.45018443453337,37.44925170580167,38.44836747298226,39.4475280512033,40.44673011954689,41.44597067721364,42.4452470058715,43.444556637194886,44.44389732477818,45.4432670197513,46.4426638495404,47.44208609931058,48.4415321957036,49.44100069254646,50.440490258257505,51.43999966471968,52.439527777425226,53.43907354672555],\"type\":\"scatter\",\"xaxis\":\"x\",\"yaxis\":\"y\"},{\"line\":{\"color\":\"#FBBC05\",\"width\":4},\"name\":\"Newton's method float32\",\"x\":[0,1,2,3,4,5,6,7,8,9,10,11,12,13,14,15,16,17,18,19,20,21,22,23,24,25,26,27,28,29,30,31,32,33,34,35,36,37,38,39,40,41,42,43,44,45,46,47,48,49],\"y\":[3.605551242828369,4.662067413330078,5.632465362548828,6.605630397796631,7.583001613616943,8.564404487609863,9.549173355102539,10.536615371704102,11.526145935058594,12.51731014251709,13.509764671325684,14.503251075744629,15.497574806213379,16.492584228515625,17.488161087036133,18.484216690063477,19.480676651000977,20.477479934692383,21.47458267211914,22.471942901611328,23.469526290893555,24.46730613708496,25.465259552001953,26.4633731842041,26.4633731842041,26.4633731842041,26.4633731842041,26.4633731842041,26.4633731842041,26.4633731842041,26.4633731842041,26.4633731842041,26.4633731842041,26.4633731842041,26.4633731842041,26.4633731842041,26.4633731842041,26.4633731842041,26.4633731842041,26.4633731842041,26.4633731842041,26.4633731842041,26.4633731842041,26.4633731842041,26.4633731842041,26.4633731842041,26.4633731842041,26.4633731842041,26.4633731842041,26.4633731842041,26.4633731842041],\"type\":\"scatter\",\"xaxis\":\"x\",\"yaxis\":\"y\"}],                        {\"template\":{\"data\":{\"bar\":[{\"error_x\":{\"color\":\"#2a3f5f\"},\"error_y\":{\"color\":\"#2a3f5f\"},\"marker\":{\"line\":{\"color\":\"#E5ECF6\",\"width\":0.5},\"pattern\":{\"fillmode\":\"overlay\",\"size\":10,\"solidity\":0.2}},\"type\":\"bar\"}],\"barpolar\":[{\"marker\":{\"line\":{\"color\":\"#E5ECF6\",\"width\":0.5},\"pattern\":{\"fillmode\":\"overlay\",\"size\":10,\"solidity\":0.2}},\"type\":\"barpolar\"}],\"carpet\":[{\"aaxis\":{\"endlinecolor\":\"#2a3f5f\",\"gridcolor\":\"white\",\"linecolor\":\"white\",\"minorgridcolor\":\"white\",\"startlinecolor\":\"#2a3f5f\"},\"baxis\":{\"endlinecolor\":\"#2a3f5f\",\"gridcolor\":\"white\",\"linecolor\":\"white\",\"minorgridcolor\":\"white\",\"startlinecolor\":\"#2a3f5f\"},\"type\":\"carpet\"}],\"choropleth\":[{\"colorbar\":{\"outlinewidth\":0,\"ticks\":\"\"},\"type\":\"choropleth\"}],\"contour\":[{\"colorbar\":{\"outlinewidth\":0,\"ticks\":\"\"},\"colorscale\":[[0.0,\"#0d0887\"],[0.1111111111111111,\"#46039f\"],[0.2222222222222222,\"#7201a8\"],[0.3333333333333333,\"#9c179e\"],[0.4444444444444444,\"#bd3786\"],[0.5555555555555556,\"#d8576b\"],[0.6666666666666666,\"#ed7953\"],[0.7777777777777778,\"#fb9f3a\"],[0.8888888888888888,\"#fdca26\"],[1.0,\"#f0f921\"]],\"type\":\"contour\"}],\"contourcarpet\":[{\"colorbar\":{\"outlinewidth\":0,\"ticks\":\"\"},\"type\":\"contourcarpet\"}],\"heatmap\":[{\"colorbar\":{\"outlinewidth\":0,\"ticks\":\"\"},\"colorscale\":[[0.0,\"#0d0887\"],[0.1111111111111111,\"#46039f\"],[0.2222222222222222,\"#7201a8\"],[0.3333333333333333,\"#9c179e\"],[0.4444444444444444,\"#bd3786\"],[0.5555555555555556,\"#d8576b\"],[0.6666666666666666,\"#ed7953\"],[0.7777777777777778,\"#fb9f3a\"],[0.8888888888888888,\"#fdca26\"],[1.0,\"#f0f921\"]],\"type\":\"heatmap\"}],\"heatmapgl\":[{\"colorbar\":{\"outlinewidth\":0,\"ticks\":\"\"},\"colorscale\":[[0.0,\"#0d0887\"],[0.1111111111111111,\"#46039f\"],[0.2222222222222222,\"#7201a8\"],[0.3333333333333333,\"#9c179e\"],[0.4444444444444444,\"#bd3786\"],[0.5555555555555556,\"#d8576b\"],[0.6666666666666666,\"#ed7953\"],[0.7777777777777778,\"#fb9f3a\"],[0.8888888888888888,\"#fdca26\"],[1.0,\"#f0f921\"]],\"type\":\"heatmapgl\"}],\"histogram\":[{\"marker\":{\"pattern\":{\"fillmode\":\"overlay\",\"size\":10,\"solidity\":0.2}},\"type\":\"histogram\"}],\"histogram2d\":[{\"colorbar\":{\"outlinewidth\":0,\"ticks\":\"\"},\"colorscale\":[[0.0,\"#0d0887\"],[0.1111111111111111,\"#46039f\"],[0.2222222222222222,\"#7201a8\"],[0.3333333333333333,\"#9c179e\"],[0.4444444444444444,\"#bd3786\"],[0.5555555555555556,\"#d8576b\"],[0.6666666666666666,\"#ed7953\"],[0.7777777777777778,\"#fb9f3a\"],[0.8888888888888888,\"#fdca26\"],[1.0,\"#f0f921\"]],\"type\":\"histogram2d\"}],\"histogram2dcontour\":[{\"colorbar\":{\"outlinewidth\":0,\"ticks\":\"\"},\"colorscale\":[[0.0,\"#0d0887\"],[0.1111111111111111,\"#46039f\"],[0.2222222222222222,\"#7201a8\"],[0.3333333333333333,\"#9c179e\"],[0.4444444444444444,\"#bd3786\"],[0.5555555555555556,\"#d8576b\"],[0.6666666666666666,\"#ed7953\"],[0.7777777777777778,\"#fb9f3a\"],[0.8888888888888888,\"#fdca26\"],[1.0,\"#f0f921\"]],\"type\":\"histogram2dcontour\"}],\"mesh3d\":[{\"colorbar\":{\"outlinewidth\":0,\"ticks\":\"\"},\"type\":\"mesh3d\"}],\"parcoords\":[{\"line\":{\"colorbar\":{\"outlinewidth\":0,\"ticks\":\"\"}},\"type\":\"parcoords\"}],\"pie\":[{\"automargin\":true,\"type\":\"pie\"}],\"scatter\":[{\"marker\":{\"colorbar\":{\"outlinewidth\":0,\"ticks\":\"\"}},\"type\":\"scatter\"}],\"scatter3d\":[{\"line\":{\"colorbar\":{\"outlinewidth\":0,\"ticks\":\"\"}},\"marker\":{\"colorbar\":{\"outlinewidth\":0,\"ticks\":\"\"}},\"type\":\"scatter3d\"}],\"scattercarpet\":[{\"marker\":{\"colorbar\":{\"outlinewidth\":0,\"ticks\":\"\"}},\"type\":\"scattercarpet\"}],\"scattergeo\":[{\"marker\":{\"colorbar\":{\"outlinewidth\":0,\"ticks\":\"\"}},\"type\":\"scattergeo\"}],\"scattergl\":[{\"marker\":{\"colorbar\":{\"outlinewidth\":0,\"ticks\":\"\"}},\"type\":\"scattergl\"}],\"scattermapbox\":[{\"marker\":{\"colorbar\":{\"outlinewidth\":0,\"ticks\":\"\"}},\"type\":\"scattermapbox\"}],\"scatterpolar\":[{\"marker\":{\"colorbar\":{\"outlinewidth\":0,\"ticks\":\"\"}},\"type\":\"scatterpolar\"}],\"scatterpolargl\":[{\"marker\":{\"colorbar\":{\"outlinewidth\":0,\"ticks\":\"\"}},\"type\":\"scatterpolargl\"}],\"scatterternary\":[{\"marker\":{\"colorbar\":{\"outlinewidth\":0,\"ticks\":\"\"}},\"type\":\"scatterternary\"}],\"surface\":[{\"colorbar\":{\"outlinewidth\":0,\"ticks\":\"\"},\"colorscale\":[[0.0,\"#0d0887\"],[0.1111111111111111,\"#46039f\"],[0.2222222222222222,\"#7201a8\"],[0.3333333333333333,\"#9c179e\"],[0.4444444444444444,\"#bd3786\"],[0.5555555555555556,\"#d8576b\"],[0.6666666666666666,\"#ed7953\"],[0.7777777777777778,\"#fb9f3a\"],[0.8888888888888888,\"#fdca26\"],[1.0,\"#f0f921\"]],\"type\":\"surface\"}],\"table\":[{\"cells\":{\"fill\":{\"color\":\"#EBF0F8\"},\"line\":{\"color\":\"white\"}},\"header\":{\"fill\":{\"color\":\"#C8D4E3\"},\"line\":{\"color\":\"white\"}},\"type\":\"table\"}]},\"layout\":{\"annotationdefaults\":{\"arrowcolor\":\"#2a3f5f\",\"arrowhead\":0,\"arrowwidth\":1},\"autotypenumbers\":\"strict\",\"coloraxis\":{\"colorbar\":{\"outlinewidth\":0,\"ticks\":\"\"}},\"colorscale\":{\"diverging\":[[0,\"#8e0152\"],[0.1,\"#c51b7d\"],[0.2,\"#de77ae\"],[0.3,\"#f1b6da\"],[0.4,\"#fde0ef\"],[0.5,\"#f7f7f7\"],[0.6,\"#e6f5d0\"],[0.7,\"#b8e186\"],[0.8,\"#7fbc41\"],[0.9,\"#4d9221\"],[1,\"#276419\"]],\"sequential\":[[0.0,\"#0d0887\"],[0.1111111111111111,\"#46039f\"],[0.2222222222222222,\"#7201a8\"],[0.3333333333333333,\"#9c179e\"],[0.4444444444444444,\"#bd3786\"],[0.5555555555555556,\"#d8576b\"],[0.6666666666666666,\"#ed7953\"],[0.7777777777777778,\"#fb9f3a\"],[0.8888888888888888,\"#fdca26\"],[1.0,\"#f0f921\"]],\"sequentialminus\":[[0.0,\"#0d0887\"],[0.1111111111111111,\"#46039f\"],[0.2222222222222222,\"#7201a8\"],[0.3333333333333333,\"#9c179e\"],[0.4444444444444444,\"#bd3786\"],[0.5555555555555556,\"#d8576b\"],[0.6666666666666666,\"#ed7953\"],[0.7777777777777778,\"#fb9f3a\"],[0.8888888888888888,\"#fdca26\"],[1.0,\"#f0f921\"]]},\"colorway\":[\"#636efa\",\"#EF553B\",\"#00cc96\",\"#ab63fa\",\"#FFA15A\",\"#19d3f3\",\"#FF6692\",\"#B6E880\",\"#FF97FF\",\"#FECB52\"],\"font\":{\"color\":\"#2a3f5f\"},\"geo\":{\"bgcolor\":\"white\",\"lakecolor\":\"white\",\"landcolor\":\"#E5ECF6\",\"showlakes\":true,\"showland\":true,\"subunitcolor\":\"white\"},\"hoverlabel\":{\"align\":\"left\"},\"hovermode\":\"closest\",\"mapbox\":{\"style\":\"light\"},\"paper_bgcolor\":\"white\",\"plot_bgcolor\":\"#E5ECF6\",\"polar\":{\"angularaxis\":{\"gridcolor\":\"white\",\"linecolor\":\"white\",\"ticks\":\"\"},\"bgcolor\":\"#E5ECF6\",\"radialaxis\":{\"gridcolor\":\"white\",\"linecolor\":\"white\",\"ticks\":\"\"}},\"scene\":{\"xaxis\":{\"backgroundcolor\":\"#E5ECF6\",\"gridcolor\":\"white\",\"gridwidth\":2,\"linecolor\":\"white\",\"showbackground\":true,\"ticks\":\"\",\"zerolinecolor\":\"white\"},\"yaxis\":{\"backgroundcolor\":\"#E5ECF6\",\"gridcolor\":\"white\",\"gridwidth\":2,\"linecolor\":\"white\",\"showbackground\":true,\"ticks\":\"\",\"zerolinecolor\":\"white\"},\"zaxis\":{\"backgroundcolor\":\"#E5ECF6\",\"gridcolor\":\"white\",\"gridwidth\":2,\"linecolor\":\"white\",\"showbackground\":true,\"ticks\":\"\",\"zerolinecolor\":\"white\"}},\"shapedefaults\":{\"line\":{\"color\":\"#2a3f5f\"}},\"ternary\":{\"aaxis\":{\"gridcolor\":\"white\",\"linecolor\":\"white\",\"ticks\":\"\"},\"baxis\":{\"gridcolor\":\"white\",\"linecolor\":\"white\",\"ticks\":\"\"},\"bgcolor\":\"#E5ECF6\",\"caxis\":{\"gridcolor\":\"white\",\"linecolor\":\"white\",\"ticks\":\"\"}},\"title\":{\"x\":0.05},\"xaxis\":{\"automargin\":true,\"gridcolor\":\"white\",\"linecolor\":\"white\",\"ticks\":\"\",\"title\":{\"standoff\":15},\"zerolinecolor\":\"white\",\"zerolinewidth\":2},\"yaxis\":{\"automargin\":true,\"gridcolor\":\"white\",\"linecolor\":\"white\",\"ticks\":\"\",\"title\":{\"standoff\":15},\"zerolinecolor\":\"white\",\"zerolinewidth\":2}}},\"xaxis\":{\"anchor\":\"y\",\"domain\":[0.0,0.94],\"title\":{\"font\":{\"family\":\"Computer Modern\",\"size\":32},\"text\":\"Optimizer Step t\"}},\"yaxis\":{\"anchor\":\"x\",\"domain\":[0.0,1.0],\"title\":{\"font\":{\"family\":\"Computer Modern\",\"size\":36},\"text\":\"Parameters Norm\"}},\"yaxis2\":{\"anchor\":\"x\",\"overlaying\":\"y\",\"side\":\"right\"},\"title\":{\"text\":\"\"},\"font\":{\"size\":24},\"legend\":{\"title\":{\"font\":{\"family\":\"Computer Modern\"}},\"font\":{\"family\":\"Computer Modern\",\"size\":24,\"color\":\"black\"},\"x\":0.05,\"y\":0.9,\"traceorder\":\"reversed\",\"bgcolor\":\"White\",\"bordercolor\":\"White\",\"borderwidth\":2},\"autosize\":true,\"width\":1200,\"height\":500},                        {\"responsive\": true}                    ).then(function(){\n",
              "                            \n",
              "var gd = document.getElementById('b5e68a13-7cb9-445b-acae-4dc96a8101c1');\n",
              "var x = new MutationObserver(function (mutations, observer) {{\n",
              "        var display = window.getComputedStyle(gd).display;\n",
              "        if (!display || display === 'none') {{\n",
              "            console.log([gd, 'removed!']);\n",
              "            Plotly.purge(gd);\n",
              "            observer.disconnect();\n",
              "        }}\n",
              "}});\n",
              "\n",
              "// Listen for the removal of the full notebook cells\n",
              "var notebookContainer = gd.closest('#notebook-container');\n",
              "if (notebookContainer) {{\n",
              "    x.observe(notebookContainer, {childList: true});\n",
              "}}\n",
              "\n",
              "// Listen for the clearing of the current output cell\n",
              "var outputEl = gd.closest('.output');\n",
              "if (outputEl) {{\n",
              "    x.observe(outputEl, {childList: true});\n",
              "}}\n",
              "\n",
              "                        })                };                            </script>        </div>\n",
              "</body>\n",
              "</html>"
            ]
          },
          "metadata": {}
        }
      ]
    },
    {
      "cell_type": "code",
      "source": [
        ""
      ],
      "metadata": {
        "id": "mLh-uGgNvero"
      },
      "execution_count": null,
      "outputs": []
    }
  ]
}